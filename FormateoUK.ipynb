{
 "cells": [
  {
   "cell_type": "code",
   "execution_count": 1,
   "id": "784140ca",
   "metadata": {},
   "outputs": [],
   "source": [
    "import os\n",
    "os.environ['USE_PYGEOS'] = '0' # only if you have pygeos\n",
    "\n",
    "import geopandas as gpd\n",
    "from  fiona import listlayers\n"
   ]
  },
  {
   "cell_type": "code",
   "execution_count": 3,
   "id": "638d4266",
   "metadata": {},
   "outputs": [
    {
     "data": {
      "text/plain": [
       "['UK', 'lakes', 'rivers', 'roads', 'gazetter']"
      ]
     },
     "execution_count": 3,
     "metadata": {},
     "output_type": "execute_result"
    }
   ],
   "source": [
    "#Ejercicio 1\n",
    "UKmaps = 'https://github.com/isabellasilvalazo/Mapa-UK/raw/main/mapas/UKmaps.gpkg'\n",
    "listlayers(UKmaps)"
   ]
  },
  {
   "cell_type": "code",
   "execution_count": 4,
   "id": "55ace96a",
   "metadata": {},
   "outputs": [],
   "source": [
    "UK=gpd.read_file(UKmaps,layer='UK')\n",
    "lakes=gpd.read_file(UKmaps,layer='lakes')\n",
    "rivers=gpd.read_file(UKmaps,layer='rivers')\n",
    "roads=gpd.read_file(UKmaps,layer='roads')\n",
    "gazetter=gpd.read_file(UKmaps,layer='gazetter')\n"
   ]
  },
  {
   "cell_type": "code",
   "execution_count": 5,
   "id": "c04e1aa6",
   "metadata": {},
   "outputs": [
    {
     "data": {
      "text/plain": [
       "True"
      ]
     },
     "execution_count": 5,
     "metadata": {},
     "output_type": "execute_result"
    }
   ],
   "source": [
    "UK.crs.to_epsg()==lakes.crs.to_epsg()==rivers.crs.to_epsg()==roads.crs.to_epsg()==gazetter.crs.to_epsg()"
   ]
  },
  {
   "cell_type": "code",
   "execution_count": 6,
   "id": "5e21dfed",
   "metadata": {},
   "outputs": [
    {
     "data": {
      "text/plain": [
       "[Axis(name=Geodetic latitude, abbrev=Lat, direction=north, unit_auth_code=EPSG, unit_code=9122, unit_name=degree),\n",
       " Axis(name=Geodetic longitude, abbrev=Lon, direction=east, unit_auth_code=EPSG, unit_code=9122, unit_name=degree)]"
      ]
     },
     "execution_count": 6,
     "metadata": {},
     "output_type": "execute_result"
    }
   ],
   "source": [
    "UK.crs.axis_info"
   ]
  },
  {
   "cell_type": "code",
   "execution_count": 7,
   "id": "fbf90df8",
   "metadata": {},
   "outputs": [
    {
     "name": "stderr",
     "output_type": "stream",
     "text": [
      "C:\\Users\\ISABELLA\\AppData\\Local\\Temp\\ipykernel_1888\\71510150.py:1: UserWarning: Geometry is in a geographic CRS. Results from 'centroid' are likely incorrect. Use 'GeoSeries.to_crs()' to re-project geometries to a projected CRS before this operation.\n",
      "\n",
      "  UK.centroid\n"
     ]
    },
    {
     "data": {
      "text/plain": [
       "0       POINT (0.13802 51.54101)\n",
       "1      POINT (-2.47579 51.34615)\n",
       "2      POINT (-0.44410 52.07683)\n",
       "3      POINT (-1.07313 51.44574)\n",
       "4       POINT (0.14693 51.45833)\n",
       "                 ...            \n",
       "187    POINT (-3.41746 51.64023)\n",
       "188    POINT (-4.04879 51.64074)\n",
       "189    POINT (-3.04466 51.69828)\n",
       "190    POINT (-3.37067 51.44243)\n",
       "191    POINT (-3.05716 52.96182)\n",
       "Length: 192, dtype: geometry"
      ]
     },
     "execution_count": 7,
     "metadata": {},
     "output_type": "execute_result"
    }
   ],
   "source": [
    "UK.centroid"
   ]
  },
  {
   "cell_type": "code",
   "execution_count": 10,
   "id": "d7bbb06e",
   "metadata": {},
   "outputs": [
    {
     "data": {
      "image/svg+xml": [
       "<svg xmlns=\"http://www.w3.org/2000/svg\" xmlns:xlink=\"http://www.w3.org/1999/xlink\" width=\"100.0\" height=\"100.0\" viewBox=\"-3.895876178892376 53.16480566297207 2.0 2.0\" preserveAspectRatio=\"xMinYMin meet\"><g transform=\"matrix(1,0,0,-1,0,108.32961132594414)\"><circle cx=\"-2.895876178892376\" cy=\"54.16480566297207\" r=\"0.06\" stroke=\"#555555\" stroke-width=\"0.02\" fill=\"#66cc99\" opacity=\"0.6\" /></g></svg>"
      ],
      "text/plain": [
       "<POINT (-2.9 54.2)>"
      ]
     },
     "execution_count": 10,
     "metadata": {},
     "output_type": "execute_result"
    }
   ],
   "source": [
    "UK.geometry.unary_union.centroid. info\n",
    "\n"
   ]
  },
  {
   "cell_type": "code",
   "execution_count": null,
   "id": "eb951153",
   "metadata": {},
   "outputs": [],
   "source": []
  }
 ],
 "metadata": {
  "kernelspec": {
   "display_name": "Python 3 (ipykernel)",
   "language": "python",
   "name": "python3"
  },
  "language_info": {
   "codemirror_mode": {
    "name": "ipython",
    "version": 3
   },
   "file_extension": ".py",
   "mimetype": "text/x-python",
   "name": "python",
   "nbconvert_exporter": "python",
   "pygments_lexer": "ipython3",
   "version": "3.9.13"
  }
 },
 "nbformat": 4,
 "nbformat_minor": 5
}
